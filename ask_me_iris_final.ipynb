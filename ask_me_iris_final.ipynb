{
 "cells": [
  {
   "cell_type": "code",
   "execution_count": 17,
   "metadata": {
    "collapsed": true
   },
   "outputs": [],
   "source": [
    "# Import Dependent Libraries & Iris Data Set\n",
    "\n",
    "import sklearn\n",
    "import numpy as np\n",
    "import pandas as pd\n",
    "import pydotplus\n",
    "import time\n",
    "from sklearn.datasets import load_iris\n",
    "from sklearn import tree\n",
    "from numpy import random, arange\n",
    "from random import randrange\n",
    "from sklearn.externals.six import StringIO"
   ]
  },
  {
   "cell_type": "code",
   "execution_count": 18,
   "metadata": {
    "collapsed": true
   },
   "outputs": [],
   "source": [
    "# Test data set\n",
    "\n",
    "iris = load_iris()\n",
    "# print iris.feature_names\n",
    "# print iris.target_names"
   ]
  },
  {
   "cell_type": "code",
   "execution_count": 19,
   "metadata": {
    "collapsed": true
   },
   "outputs": [],
   "source": [
    "# Split Training & Test Data\n",
    "\n",
    "test_idx = [0,50,100]\n",
    "\n",
    "# training data\n",
    "train_target = np.delete(iris.target, test_idx)\n",
    "train_data = np.delete(iris.data, test_idx, axis=0)\n",
    "\n",
    "# testing data\n",
    "test_target = iris.target[test_idx]\n",
    "test_data = iris.data[test_idx]"
   ]
  },
  {
   "cell_type": "code",
   "execution_count": 20,
   "metadata": {
    "collapsed": false
   },
   "outputs": [
    {
     "data": {
      "text/plain": [
       "DecisionTreeClassifier(class_weight=None, criterion='gini', max_depth=None,\n",
       "            max_features=None, max_leaf_nodes=None,\n",
       "            min_impurity_split=1e-07, min_samples_leaf=1,\n",
       "            min_samples_split=2, min_weight_fraction_leaf=0.0,\n",
       "            presort=False, random_state=None, splitter='best')"
      ]
     },
     "execution_count": 20,
     "metadata": {},
     "output_type": "execute_result"
    }
   ],
   "source": [
    "# Train Decision Tree Classifier on training data\n",
    "\n",
    "clf = tree.DecisionTreeClassifier()\n",
    "clf.fit(train_data, train_target)\n",
    "\n",
    "# print test_target\n",
    "# print clf.predict(test_data)"
   ]
  },
  {
   "cell_type": "code",
   "execution_count": 21,
   "metadata": {
    "collapsed": false
   },
   "outputs": [
    {
     "name": "stdout",
     "output_type": "stream",
     "text": [
      "Hello, my name is Iris. I love data and I love to play games. \n",
      "\n",
      "Would you like to play a game about my favorite data set with me? \n",
      "\n",
      "Enter the number of your choice.\n",
      "\n",
      "1. No\n",
      "2. Yes\n",
      "3. Maybe \n",
      "\n",
      "> 2\n"
     ]
    }
   ],
   "source": [
    "# Begin Intro of Iris to User\n",
    "\n",
    "print '''Hello, my name is Iris. I love data and I love to play games. \\n\n",
    "Would you like to play a game about my favorite data set with me? \\n\n",
    "Enter the number of your choice.\\n\n",
    "1. No\n",
    "2. Yes\n",
    "3. Maybe \\n'''\n",
    "\n",
    "\n",
    "welcome_answer = raw_input(\"> \")\n",
    "\n",
    "if welcome_answer == \"1\":\n",
    "    print \"Okay. No worries. Perhaps another time.\"\n",
    "\n",
    "elif welcome_answer == \"3\":\n",
    "    print \"Are you sure? It is SUPER fun! I love data. I think you will too. Want to join the fun? Enter the number of your choice.\\n\\n 1. No \\n 2. Yes\\n\"\n",
    "    maybe_answer = raw_input(\"> \")\n",
    "    if maybe_answer == \"1\":\n",
    "        print \"Alright grumpy pants. I'm going to go find some data sets!\"\n",
    "    if maybe_answer == \"2\":\n",
    "        shape = np.shape(iris.data)\n",
    "        shuffle = np.random.shuffle(iris.data)\n",
    "        X_train = iris.data[:200, 1:5]\n",
    "        random_user_selection1 = iris.data[np.random.randint(iris.data.shape[0], size=1)]\n",
    "        random_user_selection2 = iris.data[np.random.randint(iris.data.shape[0], size=1)]\n",
    "        random_user_selection3 = iris.data[np.random.randint(iris.data.shape[0], size=1)]\n",
    "        random_user_selection4 = iris.data[np.random.randint(iris.data.shape[0], size=1)]\n",
    "        random_user_selection5 = iris.data[np.random.randint(iris.data.shape[0], size=1)]\n",
    "        random_user_selection6 = iris.data[np.random.randint(iris.data.shape[0], size=1)]\n",
    "\n",
    "        print \"Now let's look at some examples.\\n\"\n",
    "        print \"Your features are: %s\" % random_user_selection1\n",
    "        time.sleep(1)\n",
    "        print \"Your features are: %s\" % random_user_selection2\n",
    "        time.sleep(1)\n",
    "        print \"Your features are: %s\" % random_user_selection3\n",
    "        time.sleep(1)\n",
    "        print \"Your features are: %s\" % random_user_selection4\n",
    "        time.sleep(1)\n",
    "        print \"Your features are: %s\" % random_user_selection5\n",
    "        time.sleep(1)\n",
    "        print \"Your features are: %s\" % random_user_selection6\n",
    "        time.sleep(1)\n",
    "\n",
    "        print \"\\nDo you notice any patterns? If you do, you are using the same process our classifier will use.\\n\"\n",
    "\n",
    "        print '''\\nThis is my favorite part! Let's have you pick a random flower. Then I will pick a random flower.\\n\n",
    "                Based on the features of our flowers, we will both guess what species they are. Then we can compare and see how we both did!\\n'''"
   ]
  },
  {
   "cell_type": "code",
   "execution_count": 22,
   "metadata": {
    "collapsed": false
   },
   "outputs": [
    {
     "name": "stdout",
     "output_type": "stream",
     "text": [
      "\n",
      " Our flower has the following features: [[ 6.7  3.3  5.7  2.1]]\n",
      "\n",
      "Based on these features, what species of Iris do you think your flower is? Enter the number of your choice. \n",
      "\n",
      "\n",
      "0. setosa \n",
      "1. versicolor \n",
      "2. virginica\n",
      "> 1\n",
      "\n",
      "Okay. versicolor. Your guess is as good as mine... OR IS IT?!\n",
      "\n"
     ]
    }
   ],
   "source": [
    "# Capture and store user's guess\n",
    "\n",
    "random_user_selection7 = iris.data[np.random.randint(iris.data.shape[0], size=1)]\n",
    "print \"\\n Our flower has the following features: %s\" % (random_user_selection7)\n",
    "\n",
    "print \"\\nBased on these features, what species of Iris do you think your flower is? Enter the number of your choice. \\n\"\n",
    "print \"\\n0. setosa \\n1. versicolor \\n2. virginica\"\n",
    "guess = raw_input(\"> \")\n",
    "\n",
    "if guess == \"0\":\n",
    "    print \"\\nOkay. setosa. Your guess is as good as mine... OR IS IT?!\\n\"\n",
    "    user_guess = \"setosa\"\n",
    "elif guess == \"1\":\n",
    "    print \"\\nOkay. versicolor. Your guess is as good as mine... OR IS IT?!\\n\"\n",
    "    user_guess = \"versicolor\"\n",
    "elif guess == \"2\":\n",
    "    print \"\\nOkay. virginica. Your guess is as good as mine... OR IS IT?!\\n\"\n",
    "    user_guess = \"virginica\""
   ]
  },
  {
   "cell_type": "code",
   "execution_count": 23,
   "metadata": {
    "collapsed": false
   },
   "outputs": [
    {
     "name": "stdout",
     "output_type": "stream",
     "text": [
      "\n",
      "\n",
      "Now it's my turn... I am one with the Force, the Force is with me!\n",
      "\n",
      "\n",
      "Your features are: [[ 6.7  3.3  5.7  2.1]]\n",
      "\n",
      "\n",
      "Hmmm... I think it is: [2]\n"
     ]
    }
   ],
   "source": [
    "# Feed user example to Iris and see what her guess is\n",
    "\n",
    "print \"\\n\\nNow it's my turn... I am one with the Force, the Force is with me!\"\n",
    "\n",
    "print \"\\n\\nYour features are: %s\" % (random_user_selection7)\n",
    "iris_guess = clf.predict(random_user_selection7)\n",
    "iris_answer = str(iris_guess)\n",
    "print \"\\n\\nHmmm... I think it is: %s\" % (iris_guess)"
   ]
  },
  {
   "cell_type": "code",
   "execution_count": 24,
   "metadata": {
    "collapsed": false
   },
   "outputs": [
    {
     "name": "stdout",
     "output_type": "stream",
     "text": [
      "\n",
      "This is my favorite part! Let's have you pick a random flower. Then I will pick a random flower.\n",
      "\n",
      "Based on the features of our flowers, we will both guess what species they are. Then we can compare and see how we both did!\n",
      "\n",
      "\n",
      " Our flower has the following features: [[ 5.   2.   3.5  1. ]]\n",
      "\n",
      "Based on these features, what species of Iris do you think your flower is? Enter the number of your choice. \n",
      "\n",
      "\n",
      "0. setosa \n",
      "1. versicolor \n",
      "2. virginica\n",
      "> 1\n",
      "\n",
      "Okay. versicolor. Your guess is as good as mine... OR IS IT?!\n",
      "\n",
      "\n",
      "\n",
      "Now it's my turn... I am one with the Force, the Force is with me!\n",
      "\n",
      "\n",
      "Your features are: [[ 5.   2.   3.5  1. ]]\n",
      "\n",
      "Let me take a guess based on these features...\n",
      "\n",
      "\n",
      "Hmmm... I think it is: [1]\n",
      "You guessed: versicolor\n",
      "I guessed: [1], versicolor\n",
      "\n",
      "We agree! We both classified our flower as the same species\n",
      "\n",
      "\n",
      "\n",
      "***THE END***\n"
     ]
    }
   ],
   "source": [
    "print '''\\nThis is my favorite part! Let's have you pick a random flower. Then I will pick a random flower.\\n\n",
    "Based on the features of our flowers, we will both guess what species they are. Then we can compare and see how we both did!\\n'''\n",
    "\n",
    "# Capture and store user's guess\n",
    "\n",
    "random_user_selection7 = iris.data[np.random.randint(iris.data.shape[0], size=1)]\n",
    "print \"\\n Our flower has the following features: %s\" % (random_user_selection7)\n",
    "\n",
    "print \"\\nBased on these features, what species of Iris do you think your flower is? Enter the number of your choice. \\n\"\n",
    "print \"\\n0. setosa \\n1. versicolor \\n2. virginica\"\n",
    "guess = raw_input(\"> \")\n",
    "\n",
    "if guess == \"0\":\n",
    "    print \"\\nOkay. setosa. Your guess is as good as mine... OR IS IT?!\\n\"\n",
    "    user_guess = \"setosa\"\n",
    "elif guess == \"1\":\n",
    "    print \"\\nOkay. versicolor. Your guess is as good as mine... OR IS IT?!\\n\"\n",
    "    user_guess = \"versicolor\"\n",
    "elif guess == \"2\":\n",
    "    print \"\\nOkay. virginica. Your guess is as good as mine... OR IS IT?!\\n\"\n",
    "    user_guess = \"virginica\"\n",
    "\n",
    "# Feed user example to Iris and see what her guess is\n",
    "\n",
    "print \"\\n\\nNow it's my turn... I am one with the Force, the Force is with me!\"\n",
    "\n",
    "print \"\\n\\nYour features are: %s\" % (random_user_selection7)\n",
    "iris_guess = clf.predict(random_user_selection7)\n",
    "iris_answer = str(iris_guess)\n",
    "print \"\\nLet me take a guess based on these features...\"\n",
    "time.sleep(8)\n",
    "print \"\\n\\nHmmm... I think it is: %s\" % (iris_guess)\n",
    "\n",
    "# Convert iris_guess & store iris_final_answer\n",
    "\n",
    "iris_final_answer = \"\"\n",
    "if \"[0]\" in iris_answer:\n",
    "    iris_final_answer = \"setosa\"\n",
    "elif \"[1]\" in iris_answer:\n",
    "    iris_final_answer = \"versicolor\"\n",
    "elif \"[2]\" in iris_answer:\n",
    "    iris_final_answer = \"virginica\"\n",
    "\n",
    "# Compare user_guess vs. iris_guess\n",
    "print \"You guessed: %s\" % (user_guess)\n",
    "print \"I guessed: %s, %s\" % (iris_guess, iris_final_answer)\n",
    "\n",
    "\n",
    "# Print Final Result\n",
    "\n",
    "if user_guess == iris_final_answer:\n",
    "    print \"\\nWe agree! We both classified our flower as the same species\"\n",
    "elif user_guess != iris_final_answer:\n",
    "    print \"\\nYou think %s, I think %s ... we both classified our flowers differently. \\nPerhaps we can go back and figure out why. \\nThanks for playing! \" % (user_guess, iris_final_answer)\n",
    "\n",
    "print \"\\n\\n\\n***THE END***\""
   ]
  },
  {
   "cell_type": "code",
   "execution_count": null,
   "metadata": {
    "collapsed": true
   },
   "outputs": [],
   "source": [
    ""
   ]
  }
 ],
 "metadata": {
  "kernelspec": {
   "display_name": "Python 2",
   "language": "python",
   "name": "python2"
  },
  "language_info": {
   "codemirror_mode": {
    "name": "ipython",
    "version": 2.0
   },
   "file_extension": ".py",
   "mimetype": "text/x-python",
   "name": "python",
   "nbconvert_exporter": "python",
   "pygments_lexer": "ipython2",
   "version": "2.7.11"
  }
 },
 "nbformat": 4,
 "nbformat_minor": 0
}