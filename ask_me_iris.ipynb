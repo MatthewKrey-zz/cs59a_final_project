{
 "cells": [
  {
   "cell_type": "code",
   "execution_count": 1,
   "metadata": {
    "collapsed": true
   },
   "outputs": [],
   "source": [
    "# Import Dependent Libraries & Iris Data Set \n",
    "\n",
    "import sklearn\n",
    "import numpy as np\n",
    "import pydotplus\n",
    "from sklearn.datasets import load_iris\n",
    "from sklearn import tree\n",
    "from sklearn.externals.six import StringIO"
   ]
  },
  {
   "cell_type": "code",
   "execution_count": 2,
   "metadata": {
    "collapsed": false
   },
   "outputs": [],
   "source": [
    "# Test data set \n",
    "\n",
    "iris = load_iris()\n",
    "# print iris.feature_names\n",
    "# print iris.target_names"
   ]
  },
  {
   "cell_type": "code",
   "execution_count": 3,
   "metadata": {
    "collapsed": true
   },
   "outputs": [],
   "source": [
    "# Split Training & Test Data\n",
    "\n",
    "test_idx = [0,50,100]\n",
    "\n",
    "# training data\n",
    "train_target = np.delete(iris.target, test_idx)\n",
    "train_data = np.delete(iris.data, test_idx, axis=0)\n",
    "\n",
    "# testing data\n",
    "test_target = iris.target[test_idx]\n",
    "test_data = iris.data[test_idx]"
   ]
  },
  {
   "cell_type": "code",
   "execution_count": 4,
   "metadata": {
    "collapsed": false
   },
   "outputs": [
    {
     "data": {
      "text/plain": [
       "DecisionTreeClassifier(class_weight=None, criterion='gini', max_depth=None,\n",
       "            max_features=None, max_leaf_nodes=None,\n",
       "            min_impurity_split=1e-07, min_samples_leaf=1,\n",
       "            min_samples_split=2, min_weight_fraction_leaf=0.0,\n",
       "            presort=False, random_state=None, splitter='best')"
      ]
     },
     "execution_count": 4,
     "metadata": {},
     "output_type": "execute_result"
    }
   ],
   "source": [
    "# Train Decision Tree Classifier on training data\n",
    "\n",
    "clf = tree.DecisionTreeClassifier()\n",
    "clf.fit(train_data, train_target)\n",
    "\n",
    "# print test_target\n",
    "# print clf.predict(test_data)"
   ]
  },
  {
   "cell_type": "code",
   "execution_count": 6,
   "metadata": {
    "collapsed": false
   },
   "outputs": [
    {
     "name": "stdout",
     "output_type": "stream",
     "text": [
      "Hello, my name is Iris. I love data and I love to play games. \n",
      "\n",
      "Would you like to play a game about my favorite data set with me? Please enter Yes, No or Maybe.\n",
      "> yes\n"
     ]
    }
   ],
   "source": [
    "# Begin Intro of Iris to User \n",
    "\n",
    "print '''Hello, my name is Iris. I love data and I love to play games. \\n\n",
    "Would you like to play a game about my favorite data set with me? Please enter Yes, No or Maybe.'''\n",
    "\n",
    "answer = raw_input(\"> \")\n",
    "\n",
    "if answer.lower() == \"No\":\n",
    "    print \"Okay. No worries. Perhaps another time.\"\n",
    "    \n",
    "elif answer.lower() == \"Maybe\":\n",
    "    print \"Are you sure? It is SUPER fun! I love data. I think you will too. Want to join the fun? Yes or No?\"\n",
    "    maybe_answer = raw_input(\"> \")\n",
    "    if maybe_answer.lower() == \"No\":\n",
    "        print \"Alright grumpy pants. I'm going to go find some data sets!\"\n",
    "    if maybe_answer.lower() == \"Yes\":\n",
    "        print \"Right on! Let's play! :)\"\n",
    "\n",
    "elif answer.lower() == \"Yes\":\n",
    "    print \"Right on! You are going to love this game.\"\n",
    "    \n",
    "\n",
    "# for i in range(len(iris.target)):\n",
    "#     print \"Example %d: label %s, features %s\" % (i, iris.target[i], iris.data[i])"
   ]
  },
  {
   "cell_type": "code",
   "execution_count": 18,
   "metadata": {
    "collapsed": false
   },
   "outputs": [
    {
     "name": "stdout",
     "output_type": "stream",
     "text": [
      "[ 5.1  3.5  1.4  0.2] 0\n",
      "[ 7.   3.2  4.7  1.4] 1\n",
      "['sepal length (cm)', 'sepal width (cm)', 'petal length (cm)', 'petal width (cm)']\n",
      "['setosa' 'versicolor' 'virginica']\n"
     ]
    }
   ],
   "source": [
    "# Visualize Decision Tree to see how Classifier works\n",
    "\n",
    "dot_data = StringIO()\n",
    "tree.export_graphviz(clf,\n",
    "                        out_file = dot_data,\n",
    "                        feature_names = iris.feature_names,\n",
    "                        class_names = iris.target_names,\n",
    "                        filled = True,\n",
    "                        rounded = True,\n",
    "                        impurity = False)\n",
    "\n",
    "graph = pydotplus.graph_from_dot_data(dot_data.getvalue())\n",
    "graph.write_pdf(\"iris.pdf\")\n",
    "\n",
    "print test_data[0], test_target[0]\n",
    "print test_data[1], test_target[1]\n",
    "\n",
    "print iris.feature_names\n",
    "print iris.target_names"
   ]
  },
  {
   "cell_type": "code",
   "execution_count": null,
   "metadata": {
    "collapsed": true
   },
   "outputs": [],
   "source": []
  }
 ],
 "metadata": {
  "kernelspec": {
   "display_name": "Python 2",
   "language": "python",
   "name": "python2"
  },
  "language_info": {
   "codemirror_mode": {
    "name": "ipython",
    "version": 2
   },
   "file_extension": ".py",
   "mimetype": "text/x-python",
   "name": "python",
   "nbconvert_exporter": "python",
   "pygments_lexer": "ipython2",
   "version": "2.7.11"
  }
 },
 "nbformat": 4,
 "nbformat_minor": 0
}
